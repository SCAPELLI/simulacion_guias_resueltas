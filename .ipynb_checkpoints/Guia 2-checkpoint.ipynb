{
 "cells": [
  {
   "cell_type": "markdown",
   "id": "f8e5736b",
   "metadata": {},
   "source": [
    "## Ejercicio 7\n",
    "\n",
    "Usando Octave, Matlab o Python, escribe un código que genere una realización de un processo aleatorio de\n",
    "Poisson. Utilice para ello, la propiedad de que el tiempo entre eventos es una variable aleatoria con distribución\n",
    "exponencial.\n"
   ]
  },
  {
   "cell_type": "code",
   "execution_count": 1,
   "id": "91fac27c",
   "metadata": {},
   "outputs": [
    {
     "name": "stdout",
     "output_type": "stream",
     "text": [
      "[0, 0.08556278635737674, 0.15756357952539343, 0.16777613707464634, 0.31449674696997937, 0.35307097081519834, 0.3983737572360068, 0.420326471611694, 0.6787831557633182, 0.7034717625211308, 0.7143474453247183]\n"
     ]
    },
    {
     "data": {
      "image/png": "[encoded data removed]",
      "text/plain": [
       "<Figure size 432x288 with 1 Axes>"
      ]
     },
     "metadata": {
      "needs_background": "light"
     },
     "output_type": "display_data"
    }
   ],
   "source": [
    "import numpy as np\n",
    "from matplotlib import pyplot as plt\n",
    "eventos = 10\n",
    "lamb = 10\n",
    "# generador de nros con dist. exponencial(lamb)\n",
    "def X():\n",
    "    return -np.log(1-np.random.uniform())/lamb\n",
    "\n",
    "exponenciales = [X() for i in range(eventos)]\n",
    "\n",
    "tiempos_de_eventos = []\n",
    "tiempo_acumulado = 0\n",
    "for i in range(eventos):\n",
    "    tiempo_acumulado = tiempo_acumulado + exponenciales[i]\n",
    "    tiempos_de_eventos.append(tiempo_acumulado)\n",
    "\n",
    "\n",
    "tiempos_de_eventos.insert(0,0)\n",
    "print(tiempos_de_eventos)\n",
    "plt.step(tiempos_de_eventos, range(len(tiempos_de_eventos)),where = 'post')\n",
    "plt.show()\n"
   ]
  },
  {
   "cell_type": "markdown",
   "id": "1b5c3ab8",
   "metadata": {},
   "source": [
    "## Ejercicio 8\n",
    "\n",
    "Utilizando el código del ejercicio 0, genere realizaciones de un proceso aleatorio de Poisson con λ = 2 y λ = 5.\n",
    "Utilizando los datos generados, estime empíricamente la tasa de eventos en ambos casos y calcule los errores\n",
    "obtenidos para distintos tamaños de muestras.\n"
   ]
  },
  {
   "cell_type": "code",
   "execution_count": 2,
   "id": "2f8d4ed6",
   "metadata": {},
   "outputs": [],
   "source": [
    "# defino una funcion que retorna los tiempos obtenidos de un proceso de poisson para cierta cantidad de eventos\n",
    "def pp(lamb, eventos):\n",
    "    X = lambda: -np.log(1-np.random.uniform())/lamb\n",
    "\n",
    "    exponenciales = [X() for i in range(eventos)]\n",
    "\n",
    "    tiempos_de_eventos = []\n",
    "    tiempo_acumulado = 0\n",
    "    for i in range(eventos):\n",
    "        tiempo_acumulado = tiempo_acumulado + exponenciales[i]\n",
    "        tiempos_de_eventos.append(tiempo_acumulado)\n",
    "    tiempos_de_eventos.insert(0,0)\n",
    "    return tiempos_de_eventos"
   ]
  },
  {
   "cell_type": "code",
   "execution_count": 3,
   "id": "22172e29",
   "metadata": {},
   "outputs": [
    {
     "name": "stdout",
     "output_type": "stream",
     "text": [
      " estimador de lambda con lambda 2: 1.9608201351117291\n",
      " estimador de lambda con lambda 5: 4.8003772205350295\n"
     ]
    }
   ],
   "source": [
    "eventos = 100\n",
    "realizacion1 = pp(2, eventos)\n",
    "realizacion2 = pp(5, eventos)\n",
    "\n",
    "print(f\" estimador de lambda con lambda 2: {1/(realizacion1[-1]/eventos)}\")\n",
    "\n",
    "print(f\" estimador de lambda con lambda 5: {1/(realizacion2[-1]/eventos)}\")"
   ]
  },
  {
   "cell_type": "markdown",
   "id": "b691ed57",
   "metadata": {},
   "source": [
    "## Ejercicio 12\n",
    "\n",
    "Utilice Octave, Matlab o Python para generar múltiples realizaciones de un proceso aleatorio de Poisson con λ = 1.\n",
    "\n",
    "Luego, use los datos generados para estimar la probabilidad P(T2 < 1), siendo Tn el instante de tiempo en el que\n",
    "ocurren n eventos.\n"
   ]
  },
  {
   "cell_type": "code",
   "execution_count": 4,
   "id": "870b1b03",
   "metadata": {},
   "outputs": [
    {
     "name": "stdout",
     "output_type": "stream",
     "text": [
      "estimador de lambda con lambda 1: 0.8744951334020771\n",
      "probabilidad que el segundo arrivo sea antes de 1 segundo: 0.16585493495166514\n"
     ]
    }
   ],
   "source": [
    "import math\n",
    "\n",
    "realizacion = pp(1, 100)\n",
    "lamb_estimado = 1/(realizacion[-1]/eventos)\n",
    "print(f\"estimador de lambda con lambda 1: {lamb_estimado}\")\n",
    "\n",
    "f = lambda i: ((math.exp(-lamb_estimado)*pow(1,i))/math.factorial(i))\n",
    "resultado = 1 - sum([f(i) for i in range(2)])\n",
    "print(f\"probabilidad que el segundo arrivo sea antes de 1 segundo: {resultado}\")"
   ]
  },
  {
   "cell_type": "markdown",
   "id": "6433836d",
   "metadata": {},
   "source": [
    "## Ejercicio 22\n",
    "\n",
    "Se realiza un experimento en el cual se lanza de una moneda m veces donde m sigue una distribución Poisson con\n",
    "parámetro λ = 5 lanzamientos por experimento.\n",
    "\n",
    "Si se define la variable X como la cantidad de caras obtenidas en m lanzamientos, calcule E[X]\n",
    "\n",
    "Simule en Matlab, Octave o Pyton 1000 experimentos realizados comparando la media obtenida de forma\n",
    "teórica contra la obtenida en la simulación.\n"
   ]
  },
  {
   "cell_type": "code",
   "execution_count": 13,
   "id": "134535ae",
   "metadata": {},
   "outputs": [
    {
     "name": "stdout",
     "output_type": "stream",
     "text": [
      "Estimacion de la esperanza: 5.194\n"
     ]
    },
    {
     "data": {
      "image/png": "[encoded data removed]",
      "text/plain": [
       "<Figure size 432x288 with 1 Axes>"
      ]
     },
     "metadata": {
      "needs_background": "light"
     },
     "output_type": "display_data"
    }
   ],
   "source": [
    "# Esperanza de X calculada en cuaderno = 2.5\n",
    "\n",
    "\n",
    "\n",
    "# # simulacion de variables de poisson\n",
    "# from scipy import stats \n",
    "# mu =  3.6 # parametro de forma \n",
    "# stats.poisson(mu)\n",
    "\n",
    "import seaborn as sns\n",
    "\n",
    "def poisson(lamb):\n",
    "    realizacion = pp(lamb, lamb * 100)\n",
    "\n",
    "    # N(1) ~ Poi(lamb*1)\n",
    "    # N(1)?\n",
    "    i = 1\n",
    "    N1 = 0\n",
    "    while realizacion[i]<1:\n",
    "        i += 1\n",
    "        N1 += 1\n",
    "    return N1\n",
    "\n",
    "nros = [poisson(5) for i in range(1000)]\n",
    "sns.countplot(x = nros)\n",
    "\n",
    "esperanza_estimada = sum(nros)/len(nros)\n",
    "print(f\"Estimacion de la esperanza: {esperanza_estimada}\")"
   ]
  },
  {
   "cell_type": "code",
   "execution_count": 14,
   "id": "bbf07767",
   "metadata": {},
   "outputs": [
    {
     "name": "stdout",
     "output_type": "stream",
     "text": [
      "Estimacion de la esperanza: 5.184\n"
     ]
    },
    {
     "data": {
      "image/png": "[encoded data removed]",
      "text/plain": [
       "<Figure size 432x288 with 1 Axes>"
      ]
     },
     "metadata": {
      "needs_background": "light"
     },
     "output_type": "display_data"
    }
   ],
   "source": [
    "# generador de numpy, muuucho mejor que el mio en eficiencia\n",
    "\n",
    "import numpy as np\n",
    "\n",
    "nros=np.random.poisson(lam=5,size=1000)\n",
    "sns.countplot(x = nros)\n",
    "esperanza_estimada = sum(nros)/len(nros)\n",
    "print(f\"Estimacion de la esperanza: {esperanza_estimada}\")"
   ]
  },
  {
   "cell_type": "code",
   "execution_count": null,
   "id": "b83f62d8",
   "metadata": {},
   "outputs": [],
   "source": []
  }
 ],
 "metadata": {
  "kernelspec": {
   "display_name": "Python 3",
   "language": "python",
   "name": "python3"
  },
  "language_info": {
   "codemirror_mode": {
    "name": "ipython",
    "version": 3
   },
   "file_extension": ".py",
   "mimetype": "text/x-python",
   "name": "python",
   "nbconvert_exporter": "python",
   "pygments_lexer": "ipython3",
   "version": "3.8.5"
  }
 },
 "nbformat": 4,
 "nbformat_minor": 5
}
