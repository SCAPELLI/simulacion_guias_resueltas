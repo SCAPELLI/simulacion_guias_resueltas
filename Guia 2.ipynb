{
 "cells": [
  {
   "cell_type": "markdown",
   "id": "28730b7e",
   "metadata": {},
   "source": [
    "## Ejercicio 7\n",
    "\n",
    "Usando Octave, Matlab o Python, escribe un código que genere una realización de un processo aleatorio de\n",
    "Poisson. Utilice para ello, la propiedad de que el tiempo entre eventos es una variable aleatoria con distribución\n",
    "exponencial.\n"
   ]
  },
  {
   "cell_type": "code",
   "execution_count": 48,
   "id": "46235d0a",
   "metadata": {},
   "outputs": [
    {
     "name": "stdout",
     "output_type": "stream",
     "text": [
      "[0, 0.08557707963512205, 0.11435902296455586, 0.2160438358192864, 0.38220670250388716, 0.4588787371876439, 0.5201297247585766, 0.6349430369301586, 0.8593994506181164, 1.1989666897342879, 1.3452901573609413]\n"
     ]
    },
    {
     "data": {
      "image/png": "[encoded data removed]",
      "text/plain": [
       "<Figure size 432x288 with 1 Axes>"
      ]
     },
     "metadata": {
      "needs_background": "light"
     },
     "output_type": "display_data"
    }
   ],
   "source": [
    "import numpy as np\n",
    "from matplotlib import pyplot as plt\n",
    "eventos = 10\n",
    "lamb = 10\n",
    "# generador de nros con dist. exponencial(lamb)\n",
    "def X():\n",
    "    return -np.log(1-np.random.uniform())/lamb\n",
    "\n",
    "exponenciales = [X() for i in range(eventos)]\n",
    "\n",
    "tiempos_de_eventos = []\n",
    "tiempo_acumulado = 0\n",
    "for i in range(eventos):\n",
    "    tiempo_acumulado = tiempo_acumulado + exponenciales[i]\n",
    "    tiempos_de_eventos.append(tiempo_acumulado)\n",
    "\n",
    "\n",
    "tiempos_de_eventos.insert(0,0)\n",
    "print(tiempos_de_eventos)\n",
    "plt.step(tiempos_de_eventos, range(len(tiempos_de_eventos)),where = 'post')\n",
    "plt.show()\n"
   ]
  },
  {
   "cell_type": "markdown",
   "id": "a2e60512",
   "metadata": {},
   "source": [
    "## Ejercicio 8\n",
    "\n",
    "Utilizando el código del ejercicio 0, genere realizaciones de un proceso aleatorio de Poisson con λ = 2 y λ = 5.\n",
    "Utilizando los datos generados, estime empíricamente la tasa de eventos en ambos casos y calcule los errores\n",
    "obtenidos para distintos tamaños de muestras.\n"
   ]
  },
  {
   "cell_type": "code",
   "execution_count": 70,
   "id": "177d749e",
   "metadata": {},
   "outputs": [],
   "source": [
    "# defino una funcion que retorna los tiempos obtenidos de un proceso de poisson para cierta cantidad de eventos\n",
    "def pp(lamb, eventos):\n",
    "    X = lambda: -np.log(1-np.random.uniform())/lamb\n",
    "\n",
    "    exponenciales = [X() for i in range(eventos)]\n",
    "\n",
    "    tiempos_de_eventos = []\n",
    "    tiempo_acumulado = 0\n",
    "    for i in range(eventos):\n",
    "        tiempo_acumulado = tiempo_acumulado + exponenciales[i]\n",
    "        tiempos_de_eventos.append(tiempo_acumulado)\n",
    "    tiempos_de_eventos.insert(0,0)\n",
    "    return tiempos_de_eventos"
   ]
  },
  {
   "cell_type": "code",
   "execution_count": 62,
   "id": "7825c34a",
   "metadata": {},
   "outputs": [
    {
     "name": "stdout",
     "output_type": "stream",
     "text": [
      " estimador de lambda con lambda 2: 1.8606165893449813\n",
      " estimador de lambda con lambda 5: 4.737381958424015\n"
     ]
    }
   ],
   "source": [
    "eventos = 100\n",
    "realizacion1 = pp(2, eventos)\n",
    "realizacion2 = pp(5, eventos)\n",
    "\n",
    "print(f\" estimador de lambda con lambda 2: {1/(realizacion1[-1]/eventos)}\")\n",
    "\n",
    "print(f\" estimador de lambda con lambda 5: {1/(realizacion2[-1]/eventos)}\")"
   ]
  },
  {
   "cell_type": "markdown",
   "id": "c955a1c7",
   "metadata": {},
   "source": [
    "## Ejercicio 12\n",
    "\n",
    "Utilice Octave, Matlab o Python para generar múltiples realizaciones de un proceso aleatorio de Poisson con λ = 1.\n",
    "\n",
    "Luego, use los datos generados para estimar la probabilidad P(T2 < 1), siendo Tn el instante de tiempo en el que\n",
    "ocurren n eventos.\n"
   ]
  },
  {
   "cell_type": "code",
   "execution_count": 82,
   "id": "2849a779",
   "metadata": {},
   "outputs": [
    {
     "name": "stdout",
     "output_type": "stream",
     "text": [
      "estimador de lambda con lambda 1: 0.9692827581806822\n",
      "probabilidad que el segundo arrivo sea antes de 1 segundo: 0.24128994031683004\n"
     ]
    }
   ],
   "source": [
    "import math\n",
    "\n",
    "realizacion = pp(1, 100)\n",
    "lamb_estimado = 1/(realizacion[-1]/eventos)\n",
    "print(f\"estimador de lambda con lambda 1: {lamb_estimado}\")\n",
    "\n",
    "f = lambda i: ((math.exp(-lamb_estimado)*pow(1,i))/math.factorial(i))\n",
    "resultado = 1 - sum([f(i) for i in range(2)])\n",
    "print(f\"probabilidad que el segundo arrivo sea antes de 1 segundo: {resultado}\")"
   ]
  },
  {
   "cell_type": "code",
   "execution_count": null,
   "id": "6466b721",
   "metadata": {},
   "outputs": [],
   "source": []
  }
 ],
 "metadata": {
  "kernelspec": {
   "display_name": "Python 3",
   "language": "python",
   "name": "python3"
  },
  "language_info": {
   "codemirror_mode": {
    "name": "ipython",
    "version": 3
   },
   "file_extension": ".py",
   "mimetype": "text/x-python",
   "name": "python",
   "nbconvert_exporter": "python",
   "pygments_lexer": "ipython3",
   "version": "3.8.5"
  }
 },
 "nbformat": 4,
 "nbformat_minor": 5
}
